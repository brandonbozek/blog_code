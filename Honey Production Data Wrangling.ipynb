{
 "cells": [
  {
   "cell_type": "markdown",
   "metadata": {},
   "source": [
    "This notebook contains the procedure for cleaning and organizing raw data on US honey production from https://www.nass.usda.gov/ so it is ready for analysis routines in other notebooks. In short: I downloaded csv files for the years 2013-2017 and processed them into a single dataframe that I saved for future use."
   ]
  },
  {
   "cell_type": "code",
   "execution_count": 1,
   "metadata": {
    "collapsed": true
   },
   "outputs": [],
   "source": [
    "#libraries\n",
    "import pandas as pd\n",
    "import numpy as np"
   ]
  },
  {
   "cell_type": "markdown",
   "metadata": {},
   "source": [
    "Load in the original data set for comparison. "
   ]
  },
  {
   "cell_type": "code",
   "execution_count": 2,
   "metadata": {
    "collapsed": false
   },
   "outputs": [
    {
     "data": {
      "text/html": [
       "<div>\n",
       "<style scoped>\n",
       "    .dataframe tbody tr th:only-of-type {\n",
       "        vertical-align: middle;\n",
       "    }\n",
       "\n",
       "    .dataframe tbody tr th {\n",
       "        vertical-align: top;\n",
       "    }\n",
       "\n",
       "    .dataframe thead th {\n",
       "        text-align: right;\n",
       "    }\n",
       "</style>\n",
       "<table border=\"1\" class=\"dataframe\">\n",
       "  <thead>\n",
       "    <tr style=\"text-align: right;\">\n",
       "      <th></th>\n",
       "      <th>state</th>\n",
       "      <th>numcol</th>\n",
       "      <th>yieldpercol</th>\n",
       "      <th>totalprod</th>\n",
       "      <th>stocks</th>\n",
       "      <th>priceperlb</th>\n",
       "      <th>prodvalue</th>\n",
       "      <th>year</th>\n",
       "    </tr>\n",
       "  </thead>\n",
       "  <tbody>\n",
       "    <tr>\n",
       "      <th>621</th>\n",
       "      <td>VA</td>\n",
       "      <td>4000.0</td>\n",
       "      <td>41</td>\n",
       "      <td>164000.0</td>\n",
       "      <td>23000.0</td>\n",
       "      <td>3.77</td>\n",
       "      <td>618000.0</td>\n",
       "      <td>2012</td>\n",
       "    </tr>\n",
       "    <tr>\n",
       "      <th>622</th>\n",
       "      <td>WA</td>\n",
       "      <td>62000.0</td>\n",
       "      <td>41</td>\n",
       "      <td>2542000.0</td>\n",
       "      <td>1017000.0</td>\n",
       "      <td>2.38</td>\n",
       "      <td>6050000.0</td>\n",
       "      <td>2012</td>\n",
       "    </tr>\n",
       "    <tr>\n",
       "      <th>623</th>\n",
       "      <td>WV</td>\n",
       "      <td>6000.0</td>\n",
       "      <td>48</td>\n",
       "      <td>288000.0</td>\n",
       "      <td>95000.0</td>\n",
       "      <td>2.91</td>\n",
       "      <td>838000.0</td>\n",
       "      <td>2012</td>\n",
       "    </tr>\n",
       "    <tr>\n",
       "      <th>624</th>\n",
       "      <td>WI</td>\n",
       "      <td>60000.0</td>\n",
       "      <td>69</td>\n",
       "      <td>4140000.0</td>\n",
       "      <td>1863000.0</td>\n",
       "      <td>2.05</td>\n",
       "      <td>8487000.0</td>\n",
       "      <td>2012</td>\n",
       "    </tr>\n",
       "    <tr>\n",
       "      <th>625</th>\n",
       "      <td>WY</td>\n",
       "      <td>50000.0</td>\n",
       "      <td>51</td>\n",
       "      <td>2550000.0</td>\n",
       "      <td>459000.0</td>\n",
       "      <td>1.87</td>\n",
       "      <td>4769000.0</td>\n",
       "      <td>2012</td>\n",
       "    </tr>\n",
       "  </tbody>\n",
       "</table>\n",
       "</div>"
      ],
      "text/plain": [
       "    state   numcol  yieldpercol  totalprod     stocks  priceperlb  prodvalue  \\\n",
       "621    VA   4000.0           41   164000.0    23000.0        3.77   618000.0   \n",
       "622    WA  62000.0           41  2542000.0  1017000.0        2.38  6050000.0   \n",
       "623    WV   6000.0           48   288000.0    95000.0        2.91   838000.0   \n",
       "624    WI  60000.0           69  4140000.0  1863000.0        2.05  8487000.0   \n",
       "625    WY  50000.0           51  2550000.0   459000.0        1.87  4769000.0   \n",
       "\n",
       "     year  \n",
       "621  2012  \n",
       "622  2012  \n",
       "623  2012  \n",
       "624  2012  \n",
       "625  2012  "
      ]
     },
     "execution_count": 2,
     "metadata": {},
     "output_type": "execute_result"
    }
   ],
   "source": [
    "honey_raw = pd.read_csv('honeyproduction.csv')#honey data from 1998-2012\n",
    "honey_raw.tail()"
   ]
  },
  {
   "cell_type": "markdown",
   "metadata": {},
   "source": [
    "Load the data for 2013 and isolate the portion of the file with the relevant information."
   ]
  },
  {
   "cell_type": "code",
   "execution_count": 3,
   "metadata": {
    "collapsed": true
   },
   "outputs": [],
   "source": [
    "hn2013_path = './Hone-03-21-2014/'\n",
    "honey_2013_temp = pd.read_csv(hn2013_path+'hony_p03_t003.csv',usecols=[2,3,4,5,6,7,8],header=8,nrows=42,skip_blank_lines=True)"
   ]
  },
  {
   "cell_type": "code",
   "execution_count": 4,
   "metadata": {
    "collapsed": false
   },
   "outputs": [
    {
     "name": "stdout",
     "output_type": "stream",
     "text": [
      "<class 'pandas.core.frame.DataFrame'>\n",
      "RangeIndex: 42 entries, 0 to 41\n",
      "Data columns (total 7 columns):\n",
      "Unnamed: 2          39 non-null object\n",
      "(1,000)             39 non-null float64\n",
      "(pounds)            39 non-null float64\n",
      "(1,000 pounds)      39 non-null float64\n",
      "(1,000 pounds).1    39 non-null float64\n",
      "(cents)             39 non-null float64\n",
      "(1,000 dollars)     39 non-null float64\n",
      "dtypes: float64(6), object(1)\n",
      "memory usage: 2.4+ KB\n"
     ]
    }
   ],
   "source": [
    "honey_2013_temp.info() #indicates there are a few rows with NaN values"
   ]
  },
  {
   "cell_type": "markdown",
   "metadata": {},
   "source": [
    "Format a dataframe the more closely resembles the original dataset. "
   ]
  },
  {
   "cell_type": "code",
   "execution_count": 5,
   "metadata": {
    "collapsed": true
   },
   "outputs": [],
   "source": [
    "honey_2013 = pd.DataFrame()\n",
    "honey_2013[['state','numcol','yieldpercol','totalprod','stocks','priceperlb','prodvalue']] = honey_2013_temp[list(honey_2013_temp.columns)]\n",
    "honey_2013.dropna(inplace=True) #few rows of NaN values\n",
    "honey_2013.reset_index(drop=True,inplace=True) #reset indexing\n",
    "honey_2013['year'] = np.int64(2013*np.ones(len(honey_2013['state'])))"
   ]
  },
  {
   "cell_type": "markdown",
   "metadata": {},
   "source": [
    "Add a column for the year and reformat columns to match the original dataset."
   ]
  },
  {
   "cell_type": "code",
   "execution_count": 6,
   "metadata": {
    "collapsed": false
   },
   "outputs": [],
   "source": [
    "honey_2013['year'] = np.int64(2013*np.ones(len(honey_2013['state'])))\n",
    "honey_2013['numcol'] = honey_2013.groupby('state')['numcol'].transform(lambda x:x*1000)\n",
    "honey_2013['totalprod'] = honey_2013.groupby('state')['totalprod'].transform(lambda x:x*1000)\n",
    "honey_2013['stocks'] = honey_2013.groupby('state')['stocks'].transform(lambda x:x*1000)\n",
    "honey_2013['priceperlb'] = honey_2013.groupby('state')['priceperlb'].transform(lambda x:x/100)\n",
    "honey_2013['prodvalue'] = honey_2013.groupby('state')['prodvalue'].transform(lambda x:x*1000)"
   ]
  },
  {
   "cell_type": "code",
   "execution_count": 7,
   "metadata": {
    "collapsed": false
   },
   "outputs": [
    {
     "data": {
      "text/html": [
       "<div>\n",
       "<style scoped>\n",
       "    .dataframe tbody tr th:only-of-type {\n",
       "        vertical-align: middle;\n",
       "    }\n",
       "\n",
       "    .dataframe tbody tr th {\n",
       "        vertical-align: top;\n",
       "    }\n",
       "\n",
       "    .dataframe thead th {\n",
       "        text-align: right;\n",
       "    }\n",
       "</style>\n",
       "<table border=\"1\" class=\"dataframe\">\n",
       "  <thead>\n",
       "    <tr style=\"text-align: right;\">\n",
       "      <th></th>\n",
       "      <th>state</th>\n",
       "      <th>numcol</th>\n",
       "      <th>yieldpercol</th>\n",
       "      <th>totalprod</th>\n",
       "      <th>stocks</th>\n",
       "      <th>priceperlb</th>\n",
       "      <th>prodvalue</th>\n",
       "      <th>year</th>\n",
       "    </tr>\n",
       "  </thead>\n",
       "  <tbody>\n",
       "    <tr>\n",
       "      <th>0</th>\n",
       "      <td>Alabama</td>\n",
       "      <td>7000.0</td>\n",
       "      <td>52.0</td>\n",
       "      <td>364000.0</td>\n",
       "      <td>55000.0</td>\n",
       "      <td>2.81</td>\n",
       "      <td>1023000.0</td>\n",
       "      <td>2013</td>\n",
       "    </tr>\n",
       "    <tr>\n",
       "      <th>1</th>\n",
       "      <td>Arizona</td>\n",
       "      <td>29000.0</td>\n",
       "      <td>36.0</td>\n",
       "      <td>1044000.0</td>\n",
       "      <td>251000.0</td>\n",
       "      <td>1.89</td>\n",
       "      <td>1973000.0</td>\n",
       "      <td>2013</td>\n",
       "    </tr>\n",
       "    <tr>\n",
       "      <th>2</th>\n",
       "      <td>Arkansas</td>\n",
       "      <td>22000.0</td>\n",
       "      <td>60.0</td>\n",
       "      <td>1320000.0</td>\n",
       "      <td>66000.0</td>\n",
       "      <td>2.01</td>\n",
       "      <td>2653000.0</td>\n",
       "      <td>2013</td>\n",
       "    </tr>\n",
       "    <tr>\n",
       "      <th>3</th>\n",
       "      <td>California</td>\n",
       "      <td>330000.0</td>\n",
       "      <td>33.0</td>\n",
       "      <td>10890000.0</td>\n",
       "      <td>2505000.0</td>\n",
       "      <td>2.10</td>\n",
       "      <td>22869000.0</td>\n",
       "      <td>2013</td>\n",
       "    </tr>\n",
       "    <tr>\n",
       "      <th>4</th>\n",
       "      <td>Colorado</td>\n",
       "      <td>26000.0</td>\n",
       "      <td>43.0</td>\n",
       "      <td>1118000.0</td>\n",
       "      <td>324000.0</td>\n",
       "      <td>2.10</td>\n",
       "      <td>2348000.0</td>\n",
       "      <td>2013</td>\n",
       "    </tr>\n",
       "  </tbody>\n",
       "</table>\n",
       "</div>"
      ],
      "text/plain": [
       "        state    numcol  yieldpercol   totalprod     stocks  priceperlb  \\\n",
       "0     Alabama    7000.0         52.0    364000.0    55000.0        2.81   \n",
       "1     Arizona   29000.0         36.0   1044000.0   251000.0        1.89   \n",
       "2    Arkansas   22000.0         60.0   1320000.0    66000.0        2.01   \n",
       "3  California  330000.0         33.0  10890000.0  2505000.0        2.10   \n",
       "4    Colorado   26000.0         43.0   1118000.0   324000.0        2.10   \n",
       "\n",
       "    prodvalue  year  \n",
       "0   1023000.0  2013  \n",
       "1   1973000.0  2013  \n",
       "2   2653000.0  2013  \n",
       "3  22869000.0  2013  \n",
       "4   2348000.0  2013  "
      ]
     },
     "execution_count": 7,
     "metadata": {},
     "output_type": "execute_result"
    }
   ],
   "source": [
    "honey_2013.head()"
   ]
  },
  {
   "cell_type": "markdown",
   "metadata": {},
   "source": [
    "Repeating the procedure I developed above for 2014-2017 datasets. This could be done in a loop in a single dataframe since I will concatenate these together in the end anyway. But for the handfull of years I have, it is easy enough to do one by one and a little safer since the reporting method changed in 2016 following an increase in funding."
   ]
  },
  {
   "cell_type": "code",
   "execution_count": 8,
   "metadata": {
    "collapsed": false
   },
   "outputs": [],
   "source": [
    "hn2014_path = './Hone-03-20-2015/'\n",
    "honey_2014_temp = pd.read_csv(hn2014_path+'hony_p03_t003.csv',usecols=[2,3,4,5,6,7,8],header=8,nrows=43)\n",
    "honey_2014 = pd.DataFrame()\n",
    "honey_2014[['state','numcol','yieldpercol','totalprod','stocks','priceperlb','prodvalue']] = honey_2014_temp[list(honey_2014_temp.columns)]\n",
    "honey_2014.dropna(inplace=True)\n",
    "honey_2014.reset_index(drop=True,inplace=True)\n",
    "honey_2014['year'] = np.int64(2014*np.ones(len(honey_2014['state'])))\n",
    "honey_2014[['numcol','totalprod','stocks','prodvalue']] = honey_2014.groupby('state')[['numcol','totalprod','stocks','prodvalue']].transform(lambda x:x*1000)\n",
    "honey_2014['priceperlb'] = honey_2014.groupby('state')['priceperlb'].transform(lambda x:x/100)"
   ]
  },
  {
   "cell_type": "code",
   "execution_count": 9,
   "metadata": {
    "collapsed": false
   },
   "outputs": [],
   "source": [
    "hn2015_path = './Hone-03-22-2016/'\n",
    "honey_2015_temp = pd.read_csv(hn2015_path+'hony_p03_t003.csv',usecols=[2,3,4,5,6,7,8],header=8,nrows=43)\n",
    "honey_2015 = pd.DataFrame()\n",
    "honey_2015[['state','numcol','yieldpercol','totalprod','stocks','priceperlb','prodvalue']] = honey_2015_temp[list(honey_2015_temp.columns)]\n",
    "honey_2015.dropna(inplace=True)#.reset_index(drop=True)\n",
    "honey_2015.reset_index(drop=True,inplace=True)\n",
    "honey_2015['year'] = np.int64(2015*np.ones(len(honey_2015['state'])))\n",
    "honey_2015[['numcol','totalprod','stocks','prodvalue']] = honey_2015.groupby('state')[['numcol','totalprod','stocks','prodvalue']].transform(lambda x:x*1000)\n",
    "honey_2015['priceperlb'] = honey_2015.groupby('state')['priceperlb'].transform(lambda x:x/100)"
   ]
  },
  {
   "cell_type": "code",
   "execution_count": 10,
   "metadata": {
    "collapsed": true
   },
   "outputs": [],
   "source": [
    "hn2016_path = './Hone-03-22-2017/'\n",
    "honey_2016_temp = pd.read_csv(hn2016_path+'hony_p04_t003.csv',usecols=[2,3,4,5,6,7,8],header=8,nrows=43)\n",
    "honey_2016 = pd.DataFrame()\n",
    "honey_2016[['state','numcol','yieldpercol','totalprod','stocks','priceperlb','prodvalue']] = honey_2016_temp[list(honey_2016_temp.columns)]\n",
    "honey_2016.dropna(inplace=True)\n",
    "honey_2016.reset_index(drop=True,inplace=True)\n",
    "honey_2016['year'] = np.int64(2016*np.ones(len(honey_2016['state'])))\n",
    "honey_2016[['numcol','totalprod','stocks','prodvalue']] = honey_2016.groupby('state')[['numcol','totalprod','stocks','prodvalue']].transform(lambda x:x*1000)\n",
    "honey_2016['priceperlb'] = honey_2016.groupby('state')['priceperlb'].transform(lambda x:x/100)"
   ]
  },
  {
   "cell_type": "code",
   "execution_count": 11,
   "metadata": {
    "collapsed": true
   },
   "outputs": [],
   "source": [
    "hn2017_path = './Hone-03-14-2018/'\n",
    "honey_2017_temp = pd.read_csv(hn2017_path+'hony_p03_t020.csv',usecols=[2,3,4,5,6,7,8],header=8,nrows=43)\n",
    "honey_2017 = pd.DataFrame()\n",
    "honey_2017[['state','numcol','yieldpercol','totalprod','stocks','priceperlb','prodvalue']] = honey_2017_temp[list(honey_2017_temp.columns)]\n",
    "honey_2017.dropna(inplace=True)\n",
    "honey_2017.reset_index(drop=True,inplace=True)\n",
    "honey_2017['year'] = np.int64(2017*np.ones(len(honey_2017['state'])))\n",
    "honey_2017[['numcol','totalprod','stocks','prodvalue']] = honey_2017.groupby('state')[['numcol','totalprod','stocks','prodvalue']].transform(lambda x:x*1000)\n",
    "honey_2017['priceperlb'] = honey_2017.groupby('state')['priceperlb'].transform(lambda x:x/100)"
   ]
  },
  {
   "cell_type": "markdown",
   "metadata": {},
   "source": [
    "Concatenate the dataframes for 2013-2017 into one:"
   ]
  },
  {
   "cell_type": "code",
   "execution_count": 12,
   "metadata": {
    "collapsed": true
   },
   "outputs": [],
   "source": [
    "honey_late = pd.concat([honey_2013,honey_2014,honey_2015,honey_2016,honey_2017],ignore_index=True)"
   ]
  },
  {
   "cell_type": "code",
   "execution_count": 13,
   "metadata": {
    "collapsed": false
   },
   "outputs": [
    {
     "data": {
      "text/html": [
       "<div>\n",
       "<style scoped>\n",
       "    .dataframe tbody tr th:only-of-type {\n",
       "        vertical-align: middle;\n",
       "    }\n",
       "\n",
       "    .dataframe tbody tr th {\n",
       "        vertical-align: top;\n",
       "    }\n",
       "\n",
       "    .dataframe thead th {\n",
       "        text-align: right;\n",
       "    }\n",
       "</style>\n",
       "<table border=\"1\" class=\"dataframe\">\n",
       "  <thead>\n",
       "    <tr style=\"text-align: right;\">\n",
       "      <th></th>\n",
       "      <th>state</th>\n",
       "      <th>numcol</th>\n",
       "      <th>yieldpercol</th>\n",
       "      <th>totalprod</th>\n",
       "      <th>stocks</th>\n",
       "      <th>priceperlb</th>\n",
       "      <th>prodvalue</th>\n",
       "      <th>year</th>\n",
       "    </tr>\n",
       "  </thead>\n",
       "  <tbody>\n",
       "    <tr>\n",
       "      <th>0</th>\n",
       "      <td>Alabama</td>\n",
       "      <td>7000.0</td>\n",
       "      <td>52.0</td>\n",
       "      <td>364000.0</td>\n",
       "      <td>55000.0</td>\n",
       "      <td>2.81</td>\n",
       "      <td>1023000.0</td>\n",
       "      <td>2013</td>\n",
       "    </tr>\n",
       "    <tr>\n",
       "      <th>1</th>\n",
       "      <td>Arizona</td>\n",
       "      <td>29000.0</td>\n",
       "      <td>36.0</td>\n",
       "      <td>1044000.0</td>\n",
       "      <td>251000.0</td>\n",
       "      <td>1.89</td>\n",
       "      <td>1973000.0</td>\n",
       "      <td>2013</td>\n",
       "    </tr>\n",
       "    <tr>\n",
       "      <th>2</th>\n",
       "      <td>Arkansas</td>\n",
       "      <td>22000.0</td>\n",
       "      <td>60.0</td>\n",
       "      <td>1320000.0</td>\n",
       "      <td>66000.0</td>\n",
       "      <td>2.01</td>\n",
       "      <td>2653000.0</td>\n",
       "      <td>2013</td>\n",
       "    </tr>\n",
       "    <tr>\n",
       "      <th>3</th>\n",
       "      <td>California</td>\n",
       "      <td>330000.0</td>\n",
       "      <td>33.0</td>\n",
       "      <td>10890000.0</td>\n",
       "      <td>2505000.0</td>\n",
       "      <td>2.10</td>\n",
       "      <td>22869000.0</td>\n",
       "      <td>2013</td>\n",
       "    </tr>\n",
       "    <tr>\n",
       "      <th>4</th>\n",
       "      <td>Colorado</td>\n",
       "      <td>26000.0</td>\n",
       "      <td>43.0</td>\n",
       "      <td>1118000.0</td>\n",
       "      <td>324000.0</td>\n",
       "      <td>2.10</td>\n",
       "      <td>2348000.0</td>\n",
       "      <td>2013</td>\n",
       "    </tr>\n",
       "  </tbody>\n",
       "</table>\n",
       "</div>"
      ],
      "text/plain": [
       "        state    numcol  yieldpercol   totalprod     stocks  priceperlb  \\\n",
       "0     Alabama    7000.0         52.0    364000.0    55000.0        2.81   \n",
       "1     Arizona   29000.0         36.0   1044000.0   251000.0        1.89   \n",
       "2    Arkansas   22000.0         60.0   1320000.0    66000.0        2.01   \n",
       "3  California  330000.0         33.0  10890000.0  2505000.0        2.10   \n",
       "4    Colorado   26000.0         43.0   1118000.0   324000.0        2.10   \n",
       "\n",
       "    prodvalue  year  \n",
       "0   1023000.0  2013  \n",
       "1   1973000.0  2013  \n",
       "2   2653000.0  2013  \n",
       "3  22869000.0  2013  \n",
       "4   2348000.0  2013  "
      ]
     },
     "execution_count": 13,
     "metadata": {},
     "output_type": "execute_result"
    }
   ],
   "source": [
    "honey_late.head()"
   ]
  },
  {
   "cell_type": "markdown",
   "metadata": {},
   "source": [
    "The one remaining difference between this dataframe and the original dataset is the states are not abbreviated. I found a pre-written dictionary that I copied-pasted here, which I use to change the 'state' column to abbreviated format."
   ]
  },
  {
   "cell_type": "code",
   "execution_count": 14,
   "metadata": {
    "collapsed": true
   },
   "outputs": [],
   "source": [
    "us_state_abbrev = {\n",
    "    'Alabama': 'AL',\n",
    "    'Alaska': 'AK',\n",
    "    'Arizona': 'AZ',\n",
    "    'Arkansas': 'AR',\n",
    "    'California': 'CA',\n",
    "    'Colorado': 'CO',\n",
    "    'Connecticut': 'CT',\n",
    "    'Delaware': 'DE',\n",
    "    'Florida': 'FL',\n",
    "    'Georgia': 'GA',\n",
    "    'Hawaii': 'HI',\n",
    "    'Idaho': 'ID',\n",
    "    'Illinois': 'IL',\n",
    "    'Indiana': 'IN',\n",
    "    'Iowa': 'IA',\n",
    "    'Kansas': 'KS',\n",
    "    'Kentucky': 'KY',\n",
    "    'Louisiana': 'LA',\n",
    "    'Maine': 'ME',\n",
    "    'Maryland': 'MD',\n",
    "    'Massachusetts': 'MA',\n",
    "    'Michigan': 'MI',\n",
    "    'Minnesota': 'MN',\n",
    "    'Mississippi': 'MS',\n",
    "    'Missouri': 'MO',\n",
    "    'Montana': 'MT',\n",
    "    'Nebraska': 'NE',\n",
    "    'Nevada': 'NV',\n",
    "    'New Hampshire': 'NH',\n",
    "    'New Jersey': 'NJ',\n",
    "    'New Mexico': 'NM',\n",
    "    'New York': 'NY',\n",
    "    'North Carolina': 'NC',\n",
    "    'North Dakota': 'ND',\n",
    "    'Ohio': 'OH',\n",
    "    'Oklahoma': 'OK',\n",
    "    'Oregon': 'OR',\n",
    "    'Pennsylvania': 'PA',\n",
    "    'Rhode Island': 'RI',\n",
    "    'South Carolina': 'SC',\n",
    "    'South Dakota': 'SD',\n",
    "    'Tennessee': 'TN',\n",
    "    'Texas': 'TX',\n",
    "    'Utah': 'UT',\n",
    "    'Vermont': 'VT',\n",
    "    'Virginia': 'VA',\n",
    "    'Washington': 'WA',\n",
    "    'West Virginia': 'WV',\n",
    "    'Wisconsin': 'WI',\n",
    "    'Wyoming': 'WY',\n",
    "}"
   ]
  },
  {
   "cell_type": "code",
   "execution_count": 15,
   "metadata": {
    "collapsed": true
   },
   "outputs": [],
   "source": [
    "honey_late['state'] = honey_late['state'].map(us_state_abbrev)"
   ]
  },
  {
   "cell_type": "code",
   "execution_count": 16,
   "metadata": {
    "collapsed": false
   },
   "outputs": [
    {
     "data": {
      "text/plain": [
       "array(['AL', 'AZ', 'AR', 'CA', 'CO', 'FL', 'GA', 'HI', 'ID', 'IL', 'IN',\n",
       "       'IA', 'KS', 'KY', 'LA', 'ME', 'MI', 'MN', 'MS', 'MO', 'MT', 'NE',\n",
       "       'NJ', 'NY', 'NC', 'ND', 'OH', 'OR', 'PA', 'SD', 'TN', 'TX', 'UT',\n",
       "       'VT', 'VA', 'WA', 'WV', 'WI', 'WY', 'SC'], dtype=object)"
      ]
     },
     "execution_count": 16,
     "metadata": {},
     "output_type": "execute_result"
    }
   ],
   "source": [
    "honey_late['state'].unique() #checking to make sure looks correct."
   ]
  },
  {
   "cell_type": "code",
   "execution_count": 17,
   "metadata": {
    "collapsed": false
   },
   "outputs": [
    {
     "data": {
      "text/plain": [
       "array(['AL', 'AZ', 'AR', 'CA', 'CO', 'FL', 'GA', 'HI', 'ID', 'IL', 'IN',\n",
       "       'IA', 'KS', 'KY', 'LA', 'ME', 'MD', 'MI', 'MN', 'MS', 'MO', 'MT',\n",
       "       'NE', 'NV', 'NJ', 'NM', 'NY', 'NC', 'ND', 'OH', 'OK', 'OR', 'PA',\n",
       "       'SD', 'TN', 'TX', 'UT', 'VT', 'VA', 'WA', 'WV', 'WI', 'WY', 'SC'], dtype=object)"
      ]
     },
     "execution_count": 17,
     "metadata": {},
     "output_type": "execute_result"
    }
   ],
   "source": [
    "honey_raw['state'].unique()"
   ]
  },
  {
   "cell_type": "markdown",
   "metadata": {},
   "source": [
    "Save to file for later use:"
   ]
  },
  {
   "cell_type": "code",
   "execution_count": 18,
   "metadata": {
    "collapsed": true
   },
   "outputs": [],
   "source": [
    "honey_late.to_csv('honeyproduction_late.csv',index=False)"
   ]
  }
 ],
 "metadata": {
  "kernelspec": {
   "display_name": "Python 2",
   "language": "python",
   "name": "python2"
  },
  "language_info": {
   "codemirror_mode": {
    "name": "ipython",
    "version": 2
   },
   "file_extension": ".py",
   "mimetype": "text/x-python",
   "name": "python",
   "nbconvert_exporter": "python",
   "pygments_lexer": "ipython2",
   "version": "2.7.14"
  }
 },
 "nbformat": 4,
 "nbformat_minor": 2
}
